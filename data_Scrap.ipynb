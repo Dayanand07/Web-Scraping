{
  "nbformat": 4,
  "nbformat_minor": 0,
  "metadata": {
    "colab": {
      "name": "data Scrap.ipynb",
      "private_outputs": true,
      "provenance": [],
      "authorship_tag": "ABX9TyOha6JpWT5iDp1Ad/k5SQV3",
      "include_colab_link": true
    },
    "kernelspec": {
      "name": "python3",
      "display_name": "Python 3"
    },
    "language_info": {
      "name": "python"
    }
  },
  "cells": [
    {
      "cell_type": "markdown",
      "metadata": {
        "id": "view-in-github",
        "colab_type": "text"
      },
      "source": [
        "<a href=\"https://colab.research.google.com/github/Dayanand07/Web-Scraping/blob/main/data_Scrap.ipynb\" target=\"_parent\"><img src=\"https://colab.research.google.com/assets/colab-badge.svg\" alt=\"Open In Colab\"/></a>"
      ]
    },
    {
      "cell_type": "code",
      "execution_count": null,
      "metadata": {
        "id": "juvXXVy0QJRU"
      },
      "outputs": [],
      "source": [
        "import requests\n",
        "from bs4 import BeautifulSoup"
      ]
    },
    {
      "cell_type": "code",
      "source": [
        "import pandas as pd \n",
        "url = 'https://en.wikipedia.org/wiki/List_of_cities_in_India_by_population'"
      ],
      "metadata": {
        "id": "RhzCDJV1QgHW"
      },
      "execution_count": null,
      "outputs": []
    },
    {
      "cell_type": "code",
      "source": [
        "page  = requests.get(url)\n",
        "print(page)"
      ],
      "metadata": {
        "id": "HnDbrrDLQow7"
      },
      "execution_count": null,
      "outputs": []
    },
    {
      "cell_type": "code",
      "source": [
        "html_content = page.content\n",
        "print(html_content)"
      ],
      "metadata": {
        "id": "5OPlbBz2RKBq"
      },
      "execution_count": null,
      "outputs": []
    },
    {
      "cell_type": "code",
      "source": [
        "soup = BeautifulSoup(html_content,\"html.parser\")\n",
        "print(soup)"
      ],
      "metadata": {
        "id": "dW2VKd8cRebL"
      },
      "execution_count": null,
      "outputs": []
    },
    {
      "cell_type": "code",
      "source": [
        "table_soup = soup.find_all(\"table\")\n",
        "print(table_soup)"
      ],
      "metadata": {
        "id": "FHCcbKV0RsxI"
      },
      "execution_count": null,
      "outputs": []
    },
    {
      "cell_type": "code",
      "source": [
        "header_tag = soup.find_all(\"th\")\n",
        "print(header_tag)"
      ],
      "metadata": {
        "id": "FYp3nwuDZ9CW"
      },
      "execution_count": null,
      "outputs": []
    },
    {
      "cell_type": "code",
      "source": [
        "head = [header.text.strip()for header in header_tag]"
      ],
      "metadata": {
        "id": "oLTQuXZISF0-"
      },
      "execution_count": null,
      "outputs": []
    },
    {
      "cell_type": "code",
      "source": [
        "print(head)"
      ],
      "metadata": {
        "id": "HmdzpF2sSYsV"
      },
      "execution_count": null,
      "outputs": []
    },
    {
      "cell_type": "code",
      "source": [
        "row = []\n",
        "table = soup.find(\"table\")\n",
        "data_row = table.find_all(\"tr\")\n",
        "for rows in data_row:\n",
        "  value = rows.find_all(\"td\")\n",
        "  value2 = [dp.text.strip()for dp in value]\n",
        "  print(value2)\n",
        "  if len(value2) == 0:\n",
        "    continue\n",
        "  row.append(value2)\n"
      ],
      "metadata": {
        "id": "D9NU3ZX0Sb3m"
      },
      "execution_count": null,
      "outputs": []
    },
    {
      "cell_type": "code",
      "source": [
        "data = pd.DataFrame(row)\n",
        "data.columns = ['Rank','City','Population(2011)','Population(2011)','state']"
      ],
      "metadata": {
        "id": "xjAT6vfhSjKl"
      },
      "execution_count": null,
      "outputs": []
    },
    {
      "cell_type": "code",
      "source": [
        "data.head()"
      ],
      "metadata": {
        "id": "Q0rhF92oVcst"
      },
      "execution_count": null,
      "outputs": []
    }
  ]
}